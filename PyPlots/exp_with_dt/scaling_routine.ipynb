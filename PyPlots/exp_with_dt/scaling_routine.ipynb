{
 "cells": [
  {
   "cell_type": "code",
   "execution_count": 1,
   "id": "2f6c580a",
   "metadata": {},
   "outputs": [],
   "source": [
    "import numpy as np\n",
    "import seaborn as sns\n",
    "from matplotlib import pyplot as plt\n",
    "from scipy import interpolate\n",
    "import plotly.graph_objects as go\n",
    "import pandas as pd"
   ]
  },
  {
   "cell_type": "code",
   "execution_count": 2,
   "id": "283462b9",
   "metadata": {},
   "outputs": [],
   "source": [
    "pth_el_final_coords = '0.1ptcls_per_cell_5e-13/long/final_after_2/electrons_final_coords.txt'\n",
    "pth_ion_final_coords = '0.1ptcls_per_cell_5e-13/long/final_after_2/ions_final_coords.txt'\n",
    "\n",
    "pth_el_final_vels = '0.1ptcls_per_cell_5e-13/long/final_after_2/electrons_final_vel.txt'\n",
    "pth_ion_final_vels = '0.1ptcls_per_cell_5e-13/long/final_after_2/ions_final_vel.txt'"
   ]
  },
  {
   "cell_type": "code",
   "execution_count": 3,
   "id": "8b43f4d7",
   "metadata": {},
   "outputs": [],
   "source": [
    "el_final_coords = np.genfromtxt(pth_el_final_coords)\n",
    "ion_final_coords = np.genfromtxt(pth_ion_final_coords)\n",
    "\n",
    "el_final_vels = np.genfromtxt(pth_el_final_vels)\n",
    "ion_final_vels = np.genfromtxt(pth_ion_final_vels)"
   ]
  },
  {
   "cell_type": "code",
   "execution_count": 4,
   "id": "5c7ee8d9",
   "metadata": {},
   "outputs": [],
   "source": [
    "scale = 9\n",
    "\n",
    "el_final_coords *= scale\n",
    "el_final_vels *= scale\n",
    "ion_final_coords *= scale\n",
    "ion_final_vels *= scale"
   ]
  },
  {
   "cell_type": "code",
   "execution_count": 5,
   "id": "274525d8",
   "metadata": {},
   "outputs": [],
   "source": [
    "pth_el_final_coords = '0.1ptcls_per_cell_5e-13/long/final_after_2/electrons_final_coords'\n",
    "pth_ion_final_coords = '0.1ptcls_per_cell_5e-13/long/final_after_2/ions_final_coords'\n",
    "\n",
    "pth_el_final_vels = '0.1ptcls_per_cell_5e-13/long/final_after_2/electrons_final_vel'\n",
    "pth_ion_final_vels = '0.1ptcls_per_cell_5e-13/long/final_after_2/ions_final_vel'"
   ]
  },
  {
   "cell_type": "code",
   "execution_count": 6,
   "id": "a0c0329a",
   "metadata": {},
   "outputs": [],
   "source": [
    "coords_e = open(pth_el_final_coords+'_SCALED_BY_' + str(scale) + '.txt', 'w')\n",
    "vels_e = open(pth_el_final_vels+'_SCALED_BY_' + str(scale) + '.txt', 'w')\n",
    "\n",
    "coords_i = open(pth_ion_final_coords+'_SCALED_BY_' + str(scale) + '.txt', 'w')\n",
    "vels_i = open(pth_ion_final_vels+'_SCALED_BY_' + str(scale) + '.txt', 'w')\n",
    "\n",
    "for i in range(len(el_final_coords)):\n",
    "    coords_e.write(str(el_final_coords[i][0]) + ' ' + str(el_final_coords[i][1]) + '\\n')\n",
    "    vels_e.write(str(el_final_vels[i][0]) + ' ' + str(el_final_vels[i][1]) + ' ' + str(el_final_vels[i][2]) + '\\n')\n",
    "for i in range(len(ion_final_coords)):\n",
    "    coords_i.write(str(ion_final_coords[i][0]) + ' ' + str(ion_final_coords[i][1]) + '\\n')\n",
    "    vels_i.write(str(ion_final_vels[i][0]) + ' ' + str(ion_final_vels[i][1]) + ' ' + str(ion_final_vels[i][2]) + '\\n')"
   ]
  },
  {
   "cell_type": "code",
   "execution_count": 7,
   "id": "c78a28ea",
   "metadata": {},
   "outputs": [],
   "source": [
    "pth_diel_e = '0.1ptcls_per_cell_5e-13/long/final_after_2/diel_el_rho.txt'\n",
    "pth_diel_i = '0.1ptcls_per_cell_5e-13/long/final_after_2/diel_ion_rho.txt'\n",
    "\n",
    "diel_e = np.genfromtxt(pth_diel_e)\n",
    "diel_i = np.genfromtxt(pth_diel_i)"
   ]
  },
  {
   "cell_type": "code",
   "execution_count": 8,
   "id": "03e6b585",
   "metadata": {},
   "outputs": [
    {
     "name": "stdout",
     "output_type": "stream",
     "text": [
      "(100, 50)\n",
      "[ 0.          0.          0.          0.          0.          0.\n",
      "  0.          0.          0.          0.          0.          0.\n",
      "  0.          0.          0.          0.          0.          0.\n",
      "  0.          0.          0.          0.          0.          0.\n",
      "  0.         -0.730619   -0.798559   -0.363315   -0.172556   -0.0948967\n",
      " -0.0638005  -0.046332   -0.0404531  -0.0403592  -0.0359838  -0.0284126\n",
      " -0.0281541  -0.0326575  -0.0311216  -0.0261867  -0.0240441  -0.0238466\n",
      " -0.0221981  -0.019768   -0.0163196  -0.0136397  -0.00890951 -0.00539655\n",
      " -0.0313602  -0.11706   ]\n"
     ]
    },
    {
     "data": {
      "image/png": "[encoded data removed]",
      "text/plain": [
       "<Figure size 432x288 with 1 Axes>"
      ]
     },
     "metadata": {
      "needs_background": "light"
     },
     "output_type": "display_data"
    }
   ],
   "source": [
    "print(diel_e.shape)\n",
    "plt.plot(diel_e[2])\n",
    "plt.plot(diel_e[98])\n",
    "\n",
    "print(diel_e[2])"
   ]
  },
  {
   "cell_type": "code",
   "execution_count": 9,
   "id": "c5df5804",
   "metadata": {},
   "outputs": [
    {
     "name": "stdout",
     "output_type": "stream",
     "text": [
      "[ 0.          0.          0.          0.          0.          0.\n",
      "  0.          0.          0.          0.          0.          0.\n",
      "  0.          0.          0.          0.          0.          0.\n",
      "  0.          0.          0.          0.          0.          0.\n",
      "  0.          0.          0.          0.          0.          0.\n",
      "  0.          0.          0.          0.          0.          0.\n",
      "  0.          0.          0.          0.          0.          0.\n",
      "  0.          0.          0.          0.          0.          0.\n",
      "  0.          0.          0.          0.          0.          0.\n",
      "  0.          0.          0.          0.          0.          0.\n",
      "  0.          0.          0.          0.          0.          0.\n",
      "  0.          0.          0.          0.          0.          0.\n",
      "  0.          0.         -0.14969133 -0.29938267 -0.29938267 -0.29938267\n",
      " -0.361371   -0.42335933 -0.31823367 -0.213108   -0.213108   -0.213108\n",
      " -0.15898467 -0.10486133 -0.08314197 -0.0614226  -0.0614226  -0.0614226\n",
      " -0.05168157 -0.04194053 -0.03714707 -0.0323536  -0.0323536  -0.0323536\n",
      " -0.0303534  -0.0283532  -0.0273984  -0.0264436  -0.0264436  -0.0264436\n",
      " -0.02507613 -0.02370867 -0.02259867 -0.02148867 -0.02148867 -0.02148867\n",
      " -0.0210734  -0.02065813 -0.02101053 -0.02136293 -0.02136293 -0.02136293\n",
      " -0.02109643 -0.02082993 -0.01893437 -0.0170388  -0.0170388  -0.0170388\n",
      " -0.0169782  -0.0169176  -0.0169307  -0.0169438  -0.0169438  -0.0169438\n",
      " -0.0160883  -0.0152328  -0.01429127 -0.01334973 -0.01334973 -0.01334973\n",
      " -0.01215027 -0.0109508  -0.01003157 -0.00911233 -0.00911233 -0.00911233\n",
      " -0.00732455 -0.00553677 -0.00408951 -0.00264224 -0.00264224 -0.00264224\n",
      " -0.00907719 -0.01551213 -0.0421774  -0.06884267 -0.06884267 -0.103264  ]\n"
     ]
    }
   ],
   "source": [
    "Nr = 50\n",
    "Nz = 100\n",
    "new_val_e_left = np.zeros(Nr * int(scale**.5))\n",
    "new_val_e_right = np.zeros(Nr * int(scale**.5))\n",
    "\n",
    "for i in range(Nr * int(scale**.5)):\n",
    "    if (i < Nr * scale**.5 / 2):\n",
    "        new_val_e_left[i] = 0\n",
    "        new_val_e_right[i] = 0\n",
    "    else:\n",
    "        if (i % 2 == 0):\n",
    "            new_val_e_left[i] = 0\n",
    "            new_val_e_right[i] = 0\n",
    "        else:\n",
    "            new_val_e_left[i] = diel_e[2][int(i/3)]\n",
    "            new_val_e_right[i] = diel_e[Nz - 2][int(i/3)]\n",
    "            \n",
    "for i in range(Nr * int(scale**.5 / 2), Nr * int(scale**.5) - 1):\n",
    "    if new_val_e_left[i] == 0:\n",
    "        new_val_e_left[i] = (new_val_e_left[i - 1] + new_val_e_left[i + 1]) / 3\n",
    "        new_val_e_right[i] = (new_val_e_right[i - 1] + new_val_e_right[i + 1]) / 3\n",
    "for i in range(Nr * int(scale**.5 / 2), Nr * int(scale**.5) - 1):\n",
    "    if i % 2 != 0:\n",
    "        new_val_e_left[i] /= 1.5\n",
    "        new_val_e_right[i] /= 1.5\n",
    "print(new_val_e_right)\n"
   ]
  },
  {
   "cell_type": "code",
   "execution_count": 10,
   "id": "0413acce",
   "metadata": {},
   "outputs": [
    {
     "name": "stdout",
     "output_type": "stream",
     "text": [
      "[0.00000000e+00 0.00000000e+00 0.00000000e+00 0.00000000e+00\n",
      " 0.00000000e+00 0.00000000e+00 0.00000000e+00 0.00000000e+00\n",
      " 0.00000000e+00 0.00000000e+00 0.00000000e+00 0.00000000e+00\n",
      " 0.00000000e+00 0.00000000e+00 0.00000000e+00 0.00000000e+00\n",
      " 0.00000000e+00 0.00000000e+00 0.00000000e+00 0.00000000e+00\n",
      " 0.00000000e+00 0.00000000e+00 0.00000000e+00 0.00000000e+00\n",
      " 0.00000000e+00 0.00000000e+00 0.00000000e+00 0.00000000e+00\n",
      " 0.00000000e+00 0.00000000e+00 0.00000000e+00 0.00000000e+00\n",
      " 0.00000000e+00 0.00000000e+00 0.00000000e+00 0.00000000e+00\n",
      " 0.00000000e+00 0.00000000e+00 0.00000000e+00 0.00000000e+00\n",
      " 0.00000000e+00 0.00000000e+00 0.00000000e+00 0.00000000e+00\n",
      " 0.00000000e+00 0.00000000e+00 0.00000000e+00 0.00000000e+00\n",
      " 0.00000000e+00 0.00000000e+00 0.00000000e+00 0.00000000e+00\n",
      " 0.00000000e+00 0.00000000e+00 0.00000000e+00 0.00000000e+00\n",
      " 0.00000000e+00 0.00000000e+00 0.00000000e+00 0.00000000e+00\n",
      " 0.00000000e+00 0.00000000e+00 0.00000000e+00 0.00000000e+00\n",
      " 0.00000000e+00 0.00000000e+00 0.00000000e+00 0.00000000e+00\n",
      " 0.00000000e+00 0.00000000e+00 0.00000000e+00 0.00000000e+00\n",
      " 0.00000000e+00 0.00000000e+00 1.49380000e-01 2.98760000e-01\n",
      " 2.98760000e-01 2.98760000e-01 3.61074667e-01 4.23389333e-01\n",
      " 3.18181333e-01 2.12973333e-01 2.12973333e-01 2.12973333e-01\n",
      " 1.58805000e-01 1.04636667e-01 8.28957000e-02 6.11547333e-02\n",
      " 6.11547333e-02 6.11547333e-02 5.13706667e-02 4.15866000e-02\n",
      " 3.68821667e-02 3.21777333e-02 3.21777333e-02 3.21777333e-02\n",
      " 3.01078333e-02 2.80379333e-02 2.71913333e-02 2.63447333e-02\n",
      " 2.63447333e-02 2.63447333e-02 2.49267667e-02 2.35088000e-02\n",
      " 2.24325667e-02 2.13563333e-02 2.13563333e-02 2.13563333e-02\n",
      " 2.09249333e-02 2.04935333e-02 2.08392667e-02 2.11850000e-02\n",
      " 2.11850000e-02 2.11850000e-02 2.10311333e-02 2.08772667e-02\n",
      " 1.88139000e-02 1.67505333e-02 1.67505333e-02 1.67505333e-02\n",
      " 1.66752333e-02 1.65999333e-02 1.67433667e-02 1.68868000e-02\n",
      " 1.68868000e-02 1.68868000e-02 1.58695667e-02 1.48523333e-02\n",
      " 1.39286333e-02 1.30049333e-02 1.30049333e-02 1.30049333e-02\n",
      " 1.17633667e-02 1.05218000e-02 9.29883333e-03 8.07586667e-03\n",
      " 8.07586667e-03 8.07586667e-03 6.93021333e-03 5.78456000e-03\n",
      " 3.89590000e-03 2.00724000e-03 2.00724000e-03 2.00724000e-03\n",
      " 1.05931833e-03 1.11396667e-04 6.68192333e-05 1.48487185e-05\n",
      " 1.85452593e-05 3.33627000e-05]\n"
     ]
    }
   ],
   "source": [
    "new_val_i_left = np.zeros(Nr * int(scale**.5))\n",
    "new_val_i_right = np.zeros(Nr * int(scale**.5))\n",
    "\n",
    "for i in range(Nr * int(scale**.5) ):\n",
    "    if (i < Nr * scale**.5 / 2):\n",
    "        new_val_i_left[i] = 0\n",
    "        new_val_i_right[i] = 0\n",
    "    else:\n",
    "        if (i % 2 == 0):\n",
    "            new_val_i_left[i] = 0\n",
    "            new_val_i_right[i] = 0\n",
    "        else:\n",
    "            new_val_i_left[i] = diel_i[2][int(i/3)]\n",
    "            new_val_i_right[i] = diel_i[Nz - 2][int(i/3)]\n",
    "            \n",
    "for i in range(Nr * int(scale**.5 / 2), Nr * int(scale**.5) - 1):\n",
    "    if new_val_i_left[i] == 0:\n",
    "        new_val_i_left[i] = (new_val_i_left[i - 1] + new_val_i_left[i + 1]) / 3\n",
    "        new_val_i_right[i] = (new_val_i_right[i - 1] + new_val_i_right[i + 1]) / 3\n",
    "for i in range(Nr * int(scale**.5 / 2), Nr * int(scale**.5) - 1):\n",
    "    if i % 2 != 0:\n",
    "        new_val_i_left[i] /= 1.5\n",
    "        new_val_i_right[i] /= 1.5\n",
    "print(new_val_i_right)"
   ]
  },
  {
   "cell_type": "code",
   "execution_count": 11,
   "id": "7cc31da2",
   "metadata": {},
   "outputs": [],
   "source": [
    "x = np.arange(0, Nr * int(scale ** .5))\n",
    "i_left = interpolate.make_interp_spline(x, new_val_i_left)\n",
    "i_right = interpolate.make_interp_spline(x, new_val_i_right)\n",
    "\n",
    "e_left = interpolate.make_interp_spline(x, new_val_e_left)\n",
    "e_right = interpolate.make_interp_spline(x, new_val_e_right)"
   ]
  },
  {
   "cell_type": "code",
   "execution_count": 12,
   "id": "6a9c25c1",
   "metadata": {},
   "outputs": [],
   "source": [
    "pth_diel_e = '0.1ptcls_per_cell_5e-13/long/final_after_2/diel_el_rho'\n",
    "pth_diel_i = '0.1ptcls_per_cell_5e-13/long/final_after_2/diel_ion_rho'\n",
    "\n",
    "new_diel_e = open(pth_diel_e + '_SCALED_BY_' + str(scale) + '.txt', 'w')\n",
    "new_diel_i = open(pth_diel_i + '_SCALED_BY_' + str(scale) + '.txt', 'w')"
   ]
  },
  {
   "cell_type": "code",
   "execution_count": 13,
   "id": "c6385c0b",
   "metadata": {},
   "outputs": [
    {
     "name": "stdout",
     "output_type": "stream",
     "text": [
      "(100, 50)\n"
     ]
    },
    {
     "data": {
      "text/plain": [
       "[<matplotlib.lines.Line2D at 0x7fc73268e310>]"
      ]
     },
     "execution_count": 13,
     "metadata": {},
     "output_type": "execute_result"
    },
    {
     "data": {
      "image/png": "[encoded data removed]",
      "text/plain": [
       "<Figure size 432x288 with 1 Axes>"
      ]
     },
     "metadata": {
      "needs_background": "light"
     },
     "output_type": "display_data"
    }
   ],
   "source": [
    "print(diel_e.shape)\n",
    "plt.plot(e_left(x))\n",
    "plt.plot(diel_e[2])\n"
   ]
  },
  {
   "cell_type": "code",
   "execution_count": 14,
   "id": "576526f0",
   "metadata": {},
   "outputs": [],
   "source": [
    "for i in range(Nz * scale):\n",
    "    if i == 2:\n",
    "        for j in range(len(new_val_e_left)):\n",
    "            new_diel_e.write(str(new_val_e_left[j]) + ' ')\n",
    "            new_diel_i.write(str(new_val_i_left[j]) + ' ')\n",
    "        new_diel_e.write('\\n')\n",
    "        new_diel_i.write('\\n')\n",
    "    elif i == Nz * int(scale**.5) - 2:\n",
    "        for j in range(len(new_val_e_left)):\n",
    "            new_diel_e.write(str(new_val_e_right[j]) + ' ')\n",
    "            new_diel_i.write(str(new_val_i_right[j]) + ' ')\n",
    "        new_diel_e.write('\\n')\n",
    "        new_diel_i.write('\\n')\n",
    "    else:\n",
    "        for j in range(len(new_val_e_left)):\n",
    "            new_diel_e.write(str(0) + ' ')\n",
    "            new_diel_i.write(str(0) + ' ')\n",
    "        new_diel_e.write('\\n')\n",
    "        new_diel_i.write('\\n')\n",
    "        \n",
    "        "
   ]
  },
  {
   "cell_type": "code",
   "execution_count": 35,
   "id": "61e55154",
   "metadata": {},
   "outputs": [
    {
     "name": "stdout",
     "output_type": "stream",
     "text": [
      "[-700.    -700.    -700.    -700.    -700.    -700.    -700.    -700.\n",
      " -700.    -700.    -700.    -700.    -700.    -700.    -700.    -700.\n",
      " -700.    -700.    -700.    -700.    -700.    -700.    -700.    -700.\n",
      " -700.    -685.637 -675.451 -668.045 -659.488 -648.998 -635.712 -621.13\n",
      " -605.197 -586.484 -568.892 -552.592 -536.322 -519.741 -504.892 -490.86\n",
      " -478.869 -464.686 -452.782 -440.294 -427.603 -415.061 -402.984 -392.285\n",
      " -324.291    0.   ]\n"
     ]
    }
   ],
   "source": [
    "pth_old_pot = '0.1ptcls_per_cell_5e-13/long/2/potential_.txt'\n",
    "old_pot = np.genfromtxt(pth_old_pot)\n",
    "print(old_pot[0])"
   ]
  },
  {
   "cell_type": "code",
   "execution_count": 45,
   "id": "09b12d38",
   "metadata": {},
   "outputs": [
    {
     "name": "stdout",
     "output_type": "stream",
     "text": [
      "(300, 150)\n"
     ]
    }
   ],
   "source": [
    "new_Nz = Nz * int(scale**.5)\n",
    "new_Nr = Nr * int(scale**.5)\n",
    "new_pot = np.ones((new_Nz, new_Nr))\n",
    "\n",
    "for i in range(Nz * int(scale**.5)):\n",
    "    for j in range(Nr * int(scale**.5)):\n",
    "        if i % 2 == 0 and j % 2 != 0:\n",
    "            new_pot[i][j] = old_pot[int(i / int(scale ** .5))][int(j / int(scale ** .5))]\n",
    "        elif i % 2 != 0 and j % 2 == 0:\n",
    "            new_pot[i][j] = old_pot[int(i / int(scale ** .5))][int(j / int(scale ** .5))]\n",
    "for i in range(Nz * int(scale**.5)):\n",
    "    for j in range(Nr * int(scale**.5)):\n",
    "        if new_pot[i][j] == 1:\n",
    "            new_pot[i][j] = None\n",
    "x = np.linspace(0, Nz * int(scale ** .5), Nz)\n",
    "y = np.linspace(0, Nr * int(scale ** .5), Nr)\n",
    "\n",
    "f = interpolate.RectBivariateSpline(x, y, old_pot, kx=2, ky=5, s =1000000)\n",
    "\n",
    "x1 = np.linspace(0, Nz * int(scale ** .5), Nz * int(scale ** .5))\n",
    "x2 = np.linspace(0, Nr * int(scale ** .5), Nr * int(scale ** .5))\n",
    "\n",
    "new_pot = f(x1, x2)\n",
    "new_pot[:, -1] = 0\n",
    "print(new_pot.shape)"
   ]
  },
  {
   "cell_type": "code",
   "execution_count": 49,
   "id": "0ccc03e7",
   "metadata": {},
   "outputs": [
    {
     "data": {
      "text/plain": [
       "[<matplotlib.lines.Line2D at 0x7fc728205f10>]"
      ]
     },
     "execution_count": 49,
     "metadata": {},
     "output_type": "execute_result"
    },
    {
     "data": {
      "image/png": "[encoded data removed]",
      "text/plain": [
       "<Figure size 432x288 with 1 Axes>"
      ]
     },
     "metadata": {
      "needs_background": "light"
     },
     "output_type": "display_data"
    }
   ],
   "source": [
    "plt.plot([i for i in range(0, Nr * int(scale ** .5), int(scale ** .5))],old_pot[4])\n",
    "plt.plot(new_pot[4])"
   ]
  },
  {
   "cell_type": "code",
   "execution_count": 50,
   "id": "8f83eab4",
   "metadata": {},
   "outputs": [
    {
     "data": {
      "text/plain": [
       "[<matplotlib.lines.Line2D at 0x7fc7000d4820>]"
      ]
     },
     "execution_count": 50,
     "metadata": {},
     "output_type": "execute_result"
    },
    {
     "data": {
      "image/png": "[encoded data removed]",
      "text/plain": [
       "<Figure size 432x288 with 1 Axes>"
      ]
     },
     "metadata": {
      "needs_background": "light"
     },
     "output_type": "display_data"
    }
   ],
   "source": [
    "plt.plot(new_pot[4])"
   ]
  },
  {
   "cell_type": "code",
   "execution_count": 51,
   "id": "996a84fa",
   "metadata": {},
   "outputs": [],
   "source": [
    "pth_old_pot = '0.1ptcls_per_cell_5e-13/long/2/potential_'\n",
    "\n",
    "potential = open(pth_old_pot + '_SCALED_BY_' + str(scale) + '.txt', 'w')\n",
    "\n",
    "for i in range(len(new_pot)):\n",
    "    for j in range(len(new_pot[0])):\n",
    "        potential.write(str(new_pot[i][j]) + ' ')\n",
    "    potential.write('\\n')"
   ]
  },
  {
   "cell_type": "code",
   "execution_count": null,
   "id": "211e80ea",
   "metadata": {},
   "outputs": [],
   "source": []
  },
  {
   "cell_type": "code",
   "execution_count": null,
   "id": "52d8b2d2",
   "metadata": {},
   "outputs": [],
   "source": []
  }
 ],
 "metadata": {
  "kernelspec": {
   "display_name": "Python 3 (ipykernel)",
   "language": "python",
   "name": "python3"
  },
  "language_info": {
   "codemirror_mode": {
    "name": "ipython",
    "version": 3
   },
   "file_extension": ".py",
   "mimetype": "text/x-python",
   "name": "python",
   "nbconvert_exporter": "python",
   "pygments_lexer": "ipython3",
   "version": "3.9.7"
  }
 },
 "nbformat": 4,
 "nbformat_minor": 5
}
